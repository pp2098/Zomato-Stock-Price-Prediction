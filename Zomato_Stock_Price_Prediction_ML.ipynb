{
  "nbformat": 4,
  "nbformat_minor": 0,
  "metadata": {
    "colab": {
      "name": "Zomato Stock Price Prediction ML.ipynb",
      "provenance": [],
      "collapsed_sections": [],
      "authorship_tag": "ABX9TyP+/H96oyFFWeV1quGn9vSW",
      "include_colab_link": true
    },
    "kernelspec": {
      "name": "python3",
      "display_name": "Python 3"
    },
    "language_info": {
      "name": "python"
    }
  },
  "cells": [
    {
      "cell_type": "markdown",
      "metadata": {
        "id": "view-in-github",
        "colab_type": "text"
      },
      "source": [
        "<a href=\"https://colab.research.google.com/github/pp2098/Zomato-Stock-Price-Prediction/blob/main/Zomato_Stock_Price_Prediction_ML.ipynb\" target=\"_parent\"><img src=\"https://colab.research.google.com/assets/colab-badge.svg\" alt=\"Open In Colab\"/></a>"
      ]
    },
    {
      "cell_type": "markdown",
      "source": [
        "Objective: To predict the Zomato Stock Price for next 7 days"
      ],
      "metadata": {
        "id": "dvMRlNg42TZ2"
      }
    },
    {
      "cell_type": "code",
      "execution_count": 89,
      "metadata": {
        "id": "McNMjQKLWrIj"
      },
      "outputs": [],
      "source": [
        "#Loading of important libraries to predict the zomato stock price for next 7 days\n",
        "import numpy as np\n",
        "import pandas as pd\n",
        "import matplotlib.pyplot as plt\n",
        "import seaborn as sns\n",
        "import warnings\n",
        "warnings.filterwarnings('ignore')\n",
        "\n",
        "\n"
      ]
    },
    {
      "cell_type": "code",
      "source": [
        "#Loading of dataset\n",
        "zoma=pd.read_csv('ZOMATO.csv',index_col='Date',parse_dates=True)\n",
        "#Dataset is taken from the finance.yahoo.com of last one year and setting date is a index of the dataset"
      ],
      "metadata": {
        "id": "2xvzwSaoZqES"
      },
      "execution_count": 90,
      "outputs": []
    },
    {
      "cell_type": "code",
      "source": [
        "zoma.shape\n",
        "#The dataset have 250 rows and 6 columns present in it."
      ],
      "metadata": {
        "colab": {
          "base_uri": "https://localhost:8080/"
        },
        "id": "h7G65VL23ZJ0",
        "outputId": "2fb612e1-4a44-4936-ebd8-5d0e8147fb08"
      },
      "execution_count": 91,
      "outputs": [
        {
          "output_type": "execute_result",
          "data": {
            "text/plain": [
              "(250, 6)"
            ]
          },
          "metadata": {},
          "execution_count": 91
        }
      ]
    },
    {
      "cell_type": "code",
      "source": [
        "zoma.head()\n",
        "#Loading top 5 rows of Zomato stock price dataset. In this Date is mentioned as index while Open column tells about at how much price \n",
        "#stock is going to open,High and low tells about the highest and lowest value it reaches respectively while Close and Adj Close tells about\n",
        "#Closing price of a stock for a day and volume tells about the amount of selling and buying for a day."
      ],
      "metadata": {
        "colab": {
          "base_uri": "https://localhost:8080/",
          "height": 237
        },
        "id": "F3_7Ap0J3WVX",
        "outputId": "8a76472f-3d64-4828-da09-6c39dbed237a"
      },
      "execution_count": 92,
      "outputs": [
        {
          "output_type": "execute_result",
          "data": {
            "text/plain": [
              "                  Open        High         Low       Close   Adj Close  \\\n",
              "Date                                                                     \n",
              "2021-07-30  142.600006  142.699997  131.000000  133.500000  133.500000   \n",
              "2021-08-02  135.750000  140.750000  135.149994  139.699997  139.699997   \n",
              "2021-08-03  137.000000  140.800003  137.000000  139.399994  139.399994   \n",
              "2021-08-04  139.800003  141.000000  135.250000  138.399994  138.399994   \n",
              "2021-08-05  138.750000  138.899994  132.000000  134.949997  134.949997   \n",
              "\n",
              "              Volume  \n",
              "Date                  \n",
              "2021-07-30  88312522  \n",
              "2021-08-02  66909732  \n",
              "2021-08-03  46610001  \n",
              "2021-08-04  41134419  \n",
              "2021-08-05  38437134  "
            ],
            "text/html": [
              "\n",
              "  <div id=\"df-045c24f1-a67a-477d-8547-b488801493a7\">\n",
              "    <div class=\"colab-df-container\">\n",
              "      <div>\n",
              "<style scoped>\n",
              "    .dataframe tbody tr th:only-of-type {\n",
              "        vertical-align: middle;\n",
              "    }\n",
              "\n",
              "    .dataframe tbody tr th {\n",
              "        vertical-align: top;\n",
              "    }\n",
              "\n",
              "    .dataframe thead th {\n",
              "        text-align: right;\n",
              "    }\n",
              "</style>\n",
              "<table border=\"1\" class=\"dataframe\">\n",
              "  <thead>\n",
              "    <tr style=\"text-align: right;\">\n",
              "      <th></th>\n",
              "      <th>Open</th>\n",
              "      <th>High</th>\n",
              "      <th>Low</th>\n",
              "      <th>Close</th>\n",
              "      <th>Adj Close</th>\n",
              "      <th>Volume</th>\n",
              "    </tr>\n",
              "    <tr>\n",
              "      <th>Date</th>\n",
              "      <th></th>\n",
              "      <th></th>\n",
              "      <th></th>\n",
              "      <th></th>\n",
              "      <th></th>\n",
              "      <th></th>\n",
              "    </tr>\n",
              "  </thead>\n",
              "  <tbody>\n",
              "    <tr>\n",
              "      <th>2021-07-30</th>\n",
              "      <td>142.600006</td>\n",
              "      <td>142.699997</td>\n",
              "      <td>131.000000</td>\n",
              "      <td>133.500000</td>\n",
              "      <td>133.500000</td>\n",
              "      <td>88312522</td>\n",
              "    </tr>\n",
              "    <tr>\n",
              "      <th>2021-08-02</th>\n",
              "      <td>135.750000</td>\n",
              "      <td>140.750000</td>\n",
              "      <td>135.149994</td>\n",
              "      <td>139.699997</td>\n",
              "      <td>139.699997</td>\n",
              "      <td>66909732</td>\n",
              "    </tr>\n",
              "    <tr>\n",
              "      <th>2021-08-03</th>\n",
              "      <td>137.000000</td>\n",
              "      <td>140.800003</td>\n",
              "      <td>137.000000</td>\n",
              "      <td>139.399994</td>\n",
              "      <td>139.399994</td>\n",
              "      <td>46610001</td>\n",
              "    </tr>\n",
              "    <tr>\n",
              "      <th>2021-08-04</th>\n",
              "      <td>139.800003</td>\n",
              "      <td>141.000000</td>\n",
              "      <td>135.250000</td>\n",
              "      <td>138.399994</td>\n",
              "      <td>138.399994</td>\n",
              "      <td>41134419</td>\n",
              "    </tr>\n",
              "    <tr>\n",
              "      <th>2021-08-05</th>\n",
              "      <td>138.750000</td>\n",
              "      <td>138.899994</td>\n",
              "      <td>132.000000</td>\n",
              "      <td>134.949997</td>\n",
              "      <td>134.949997</td>\n",
              "      <td>38437134</td>\n",
              "    </tr>\n",
              "  </tbody>\n",
              "</table>\n",
              "</div>\n",
              "      <button class=\"colab-df-convert\" onclick=\"convertToInteractive('df-045c24f1-a67a-477d-8547-b488801493a7')\"\n",
              "              title=\"Convert this dataframe to an interactive table.\"\n",
              "              style=\"display:none;\">\n",
              "        \n",
              "  <svg xmlns=\"http://www.w3.org/2000/svg\" height=\"24px\"viewBox=\"0 0 24 24\"\n",
              "       width=\"24px\">\n",
              "    <path d=\"M0 0h24v24H0V0z\" fill=\"none\"/>\n",
              "    <path d=\"M18.56 5.44l.94 2.06.94-2.06 2.06-.94-2.06-.94-.94-2.06-.94 2.06-2.06.94zm-11 1L8.5 8.5l.94-2.06 2.06-.94-2.06-.94L8.5 2.5l-.94 2.06-2.06.94zm10 10l.94 2.06.94-2.06 2.06-.94-2.06-.94-.94-2.06-.94 2.06-2.06.94z\"/><path d=\"M17.41 7.96l-1.37-1.37c-.4-.4-.92-.59-1.43-.59-.52 0-1.04.2-1.43.59L10.3 9.45l-7.72 7.72c-.78.78-.78 2.05 0 2.83L4 21.41c.39.39.9.59 1.41.59.51 0 1.02-.2 1.41-.59l7.78-7.78 2.81-2.81c.8-.78.8-2.07 0-2.86zM5.41 20L4 18.59l7.72-7.72 1.47 1.35L5.41 20z\"/>\n",
              "  </svg>\n",
              "      </button>\n",
              "      \n",
              "  <style>\n",
              "    .colab-df-container {\n",
              "      display:flex;\n",
              "      flex-wrap:wrap;\n",
              "      gap: 12px;\n",
              "    }\n",
              "\n",
              "    .colab-df-convert {\n",
              "      background-color: #E8F0FE;\n",
              "      border: none;\n",
              "      border-radius: 50%;\n",
              "      cursor: pointer;\n",
              "      display: none;\n",
              "      fill: #1967D2;\n",
              "      height: 32px;\n",
              "      padding: 0 0 0 0;\n",
              "      width: 32px;\n",
              "    }\n",
              "\n",
              "    .colab-df-convert:hover {\n",
              "      background-color: #E2EBFA;\n",
              "      box-shadow: 0px 1px 2px rgba(60, 64, 67, 0.3), 0px 1px 3px 1px rgba(60, 64, 67, 0.15);\n",
              "      fill: #174EA6;\n",
              "    }\n",
              "\n",
              "    [theme=dark] .colab-df-convert {\n",
              "      background-color: #3B4455;\n",
              "      fill: #D2E3FC;\n",
              "    }\n",
              "\n",
              "    [theme=dark] .colab-df-convert:hover {\n",
              "      background-color: #434B5C;\n",
              "      box-shadow: 0px 1px 3px 1px rgba(0, 0, 0, 0.15);\n",
              "      filter: drop-shadow(0px 1px 2px rgba(0, 0, 0, 0.3));\n",
              "      fill: #FFFFFF;\n",
              "    }\n",
              "  </style>\n",
              "\n",
              "      <script>\n",
              "        const buttonEl =\n",
              "          document.querySelector('#df-045c24f1-a67a-477d-8547-b488801493a7 button.colab-df-convert');\n",
              "        buttonEl.style.display =\n",
              "          google.colab.kernel.accessAllowed ? 'block' : 'none';\n",
              "\n",
              "        async function convertToInteractive(key) {\n",
              "          const element = document.querySelector('#df-045c24f1-a67a-477d-8547-b488801493a7');\n",
              "          const dataTable =\n",
              "            await google.colab.kernel.invokeFunction('convertToInteractive',\n",
              "                                                     [key], {});\n",
              "          if (!dataTable) return;\n",
              "\n",
              "          const docLinkHtml = 'Like what you see? Visit the ' +\n",
              "            '<a target=\"_blank\" href=https://colab.research.google.com/notebooks/data_table.ipynb>data table notebook</a>'\n",
              "            + ' to learn more about interactive tables.';\n",
              "          element.innerHTML = '';\n",
              "          dataTable['output_type'] = 'display_data';\n",
              "          await google.colab.output.renderOutput(dataTable, element);\n",
              "          const docLink = document.createElement('div');\n",
              "          docLink.innerHTML = docLinkHtml;\n",
              "          element.appendChild(docLink);\n",
              "        }\n",
              "      </script>\n",
              "    </div>\n",
              "  </div>\n",
              "  "
            ]
          },
          "metadata": {},
          "execution_count": 92
        }
      ]
    },
    {
      "cell_type": "code",
      "source": [
        "#extracting of information about features\n",
        "zoma.info()\n",
        "#There are no null values present in the datset"
      ],
      "metadata": {
        "colab": {
          "base_uri": "https://localhost:8080/"
        },
        "id": "YvME_6LQZz__",
        "outputId": "df29cc44-b1ea-4b86-98f6-1a4fbfe2b65b"
      },
      "execution_count": 93,
      "outputs": [
        {
          "output_type": "stream",
          "name": "stdout",
          "text": [
            "<class 'pandas.core.frame.DataFrame'>\n",
            "DatetimeIndex: 250 entries, 2021-07-30 to 2022-07-29\n",
            "Data columns (total 6 columns):\n",
            " #   Column     Non-Null Count  Dtype  \n",
            "---  ------     --------------  -----  \n",
            " 0   Open       250 non-null    float64\n",
            " 1   High       250 non-null    float64\n",
            " 2   Low        250 non-null    float64\n",
            " 3   Close      250 non-null    float64\n",
            " 4   Adj Close  250 non-null    float64\n",
            " 5   Volume     250 non-null    int64  \n",
            "dtypes: float64(5), int64(1)\n",
            "memory usage: 13.7 KB\n"
          ]
        }
      ]
    },
    {
      "cell_type": "code",
      "source": [
        "print(f'DataFrame of Zomato contains stock prices between {zoma.index.min()} {zoma.index.max()}')\n",
        "print(f'Total Days = {(zoma.index.max() - zoma.index.min()).days} days')\n",
        "#Tells about the range of zomato stock price data"
      ],
      "metadata": {
        "colab": {
          "base_uri": "https://localhost:8080/"
        },
        "id": "0jkh73FdaF0y",
        "outputId": "9e4a3b46-bd02-42a3-a477-053342cb10a0"
      },
      "execution_count": 94,
      "outputs": [
        {
          "output_type": "stream",
          "name": "stdout",
          "text": [
            "DataFrame of Zomato contains stock prices between 2021-07-30 00:00:00 2022-07-29 00:00:00\n",
            "Total Days = 364 days\n"
          ]
        }
      ]
    },
    {
      "cell_type": "code",
      "source": [
        "zoma.describe()\n",
        "#Statistical description about zomato stock price"
      ],
      "metadata": {
        "colab": {
          "base_uri": "https://localhost:8080/",
          "height": 300
        },
        "id": "BTG3utbdbaT3",
        "outputId": "f1c48291-f6d3-43f6-8ff1-382fb769692b"
      },
      "execution_count": 95,
      "outputs": [
        {
          "output_type": "execute_result",
          "data": {
            "text/plain": [
              "             Open        High         Low       Close   Adj Close  \\\n",
              "count  250.000000  250.000000  250.000000  250.000000  250.000000   \n",
              "mean   104.535200  106.649600  101.543200  103.793200  103.793200   \n",
              "std     34.874671   35.366796   34.066024   34.751238   34.751238   \n",
              "min     40.849998   44.400002   40.599998   41.650002   41.650002   \n",
              "25%     74.475001   75.537498   71.249998   72.575001   72.575001   \n",
              "50%     96.474998   98.250000   93.474998   94.500000   94.500000   \n",
              "75%    137.162498  139.099995  133.300003  136.600006  136.600006   \n",
              "max    161.149994  169.000000  154.250000  160.300003  160.300003   \n",
              "\n",
              "             Volume  \n",
              "count  2.500000e+02  \n",
              "mean   4.184886e+07  \n",
              "std    5.288987e+07  \n",
              "min    4.101820e+06  \n",
              "25%    1.489808e+07  \n",
              "50%    2.645513e+07  \n",
              "75%    4.313539e+07  \n",
              "max    4.123047e+08  "
            ],
            "text/html": [
              "\n",
              "  <div id=\"df-4c655766-a369-4864-b18b-ca7c1bdf18ca\">\n",
              "    <div class=\"colab-df-container\">\n",
              "      <div>\n",
              "<style scoped>\n",
              "    .dataframe tbody tr th:only-of-type {\n",
              "        vertical-align: middle;\n",
              "    }\n",
              "\n",
              "    .dataframe tbody tr th {\n",
              "        vertical-align: top;\n",
              "    }\n",
              "\n",
              "    .dataframe thead th {\n",
              "        text-align: right;\n",
              "    }\n",
              "</style>\n",
              "<table border=\"1\" class=\"dataframe\">\n",
              "  <thead>\n",
              "    <tr style=\"text-align: right;\">\n",
              "      <th></th>\n",
              "      <th>Open</th>\n",
              "      <th>High</th>\n",
              "      <th>Low</th>\n",
              "      <th>Close</th>\n",
              "      <th>Adj Close</th>\n",
              "      <th>Volume</th>\n",
              "    </tr>\n",
              "  </thead>\n",
              "  <tbody>\n",
              "    <tr>\n",
              "      <th>count</th>\n",
              "      <td>250.000000</td>\n",
              "      <td>250.000000</td>\n",
              "      <td>250.000000</td>\n",
              "      <td>250.000000</td>\n",
              "      <td>250.000000</td>\n",
              "      <td>2.500000e+02</td>\n",
              "    </tr>\n",
              "    <tr>\n",
              "      <th>mean</th>\n",
              "      <td>104.535200</td>\n",
              "      <td>106.649600</td>\n",
              "      <td>101.543200</td>\n",
              "      <td>103.793200</td>\n",
              "      <td>103.793200</td>\n",
              "      <td>4.184886e+07</td>\n",
              "    </tr>\n",
              "    <tr>\n",
              "      <th>std</th>\n",
              "      <td>34.874671</td>\n",
              "      <td>35.366796</td>\n",
              "      <td>34.066024</td>\n",
              "      <td>34.751238</td>\n",
              "      <td>34.751238</td>\n",
              "      <td>5.288987e+07</td>\n",
              "    </tr>\n",
              "    <tr>\n",
              "      <th>min</th>\n",
              "      <td>40.849998</td>\n",
              "      <td>44.400002</td>\n",
              "      <td>40.599998</td>\n",
              "      <td>41.650002</td>\n",
              "      <td>41.650002</td>\n",
              "      <td>4.101820e+06</td>\n",
              "    </tr>\n",
              "    <tr>\n",
              "      <th>25%</th>\n",
              "      <td>74.475001</td>\n",
              "      <td>75.537498</td>\n",
              "      <td>71.249998</td>\n",
              "      <td>72.575001</td>\n",
              "      <td>72.575001</td>\n",
              "      <td>1.489808e+07</td>\n",
              "    </tr>\n",
              "    <tr>\n",
              "      <th>50%</th>\n",
              "      <td>96.474998</td>\n",
              "      <td>98.250000</td>\n",
              "      <td>93.474998</td>\n",
              "      <td>94.500000</td>\n",
              "      <td>94.500000</td>\n",
              "      <td>2.645513e+07</td>\n",
              "    </tr>\n",
              "    <tr>\n",
              "      <th>75%</th>\n",
              "      <td>137.162498</td>\n",
              "      <td>139.099995</td>\n",
              "      <td>133.300003</td>\n",
              "      <td>136.600006</td>\n",
              "      <td>136.600006</td>\n",
              "      <td>4.313539e+07</td>\n",
              "    </tr>\n",
              "    <tr>\n",
              "      <th>max</th>\n",
              "      <td>161.149994</td>\n",
              "      <td>169.000000</td>\n",
              "      <td>154.250000</td>\n",
              "      <td>160.300003</td>\n",
              "      <td>160.300003</td>\n",
              "      <td>4.123047e+08</td>\n",
              "    </tr>\n",
              "  </tbody>\n",
              "</table>\n",
              "</div>\n",
              "      <button class=\"colab-df-convert\" onclick=\"convertToInteractive('df-4c655766-a369-4864-b18b-ca7c1bdf18ca')\"\n",
              "              title=\"Convert this dataframe to an interactive table.\"\n",
              "              style=\"display:none;\">\n",
              "        \n",
              "  <svg xmlns=\"http://www.w3.org/2000/svg\" height=\"24px\"viewBox=\"0 0 24 24\"\n",
              "       width=\"24px\">\n",
              "    <path d=\"M0 0h24v24H0V0z\" fill=\"none\"/>\n",
              "    <path d=\"M18.56 5.44l.94 2.06.94-2.06 2.06-.94-2.06-.94-.94-2.06-.94 2.06-2.06.94zm-11 1L8.5 8.5l.94-2.06 2.06-.94-2.06-.94L8.5 2.5l-.94 2.06-2.06.94zm10 10l.94 2.06.94-2.06 2.06-.94-2.06-.94-.94-2.06-.94 2.06-2.06.94z\"/><path d=\"M17.41 7.96l-1.37-1.37c-.4-.4-.92-.59-1.43-.59-.52 0-1.04.2-1.43.59L10.3 9.45l-7.72 7.72c-.78.78-.78 2.05 0 2.83L4 21.41c.39.39.9.59 1.41.59.51 0 1.02-.2 1.41-.59l7.78-7.78 2.81-2.81c.8-.78.8-2.07 0-2.86zM5.41 20L4 18.59l7.72-7.72 1.47 1.35L5.41 20z\"/>\n",
              "  </svg>\n",
              "      </button>\n",
              "      \n",
              "  <style>\n",
              "    .colab-df-container {\n",
              "      display:flex;\n",
              "      flex-wrap:wrap;\n",
              "      gap: 12px;\n",
              "    }\n",
              "\n",
              "    .colab-df-convert {\n",
              "      background-color: #E8F0FE;\n",
              "      border: none;\n",
              "      border-radius: 50%;\n",
              "      cursor: pointer;\n",
              "      display: none;\n",
              "      fill: #1967D2;\n",
              "      height: 32px;\n",
              "      padding: 0 0 0 0;\n",
              "      width: 32px;\n",
              "    }\n",
              "\n",
              "    .colab-df-convert:hover {\n",
              "      background-color: #E2EBFA;\n",
              "      box-shadow: 0px 1px 2px rgba(60, 64, 67, 0.3), 0px 1px 3px 1px rgba(60, 64, 67, 0.15);\n",
              "      fill: #174EA6;\n",
              "    }\n",
              "\n",
              "    [theme=dark] .colab-df-convert {\n",
              "      background-color: #3B4455;\n",
              "      fill: #D2E3FC;\n",
              "    }\n",
              "\n",
              "    [theme=dark] .colab-df-convert:hover {\n",
              "      background-color: #434B5C;\n",
              "      box-shadow: 0px 1px 3px 1px rgba(0, 0, 0, 0.15);\n",
              "      filter: drop-shadow(0px 1px 2px rgba(0, 0, 0, 0.3));\n",
              "      fill: #FFFFFF;\n",
              "    }\n",
              "  </style>\n",
              "\n",
              "      <script>\n",
              "        const buttonEl =\n",
              "          document.querySelector('#df-4c655766-a369-4864-b18b-ca7c1bdf18ca button.colab-df-convert');\n",
              "        buttonEl.style.display =\n",
              "          google.colab.kernel.accessAllowed ? 'block' : 'none';\n",
              "\n",
              "        async function convertToInteractive(key) {\n",
              "          const element = document.querySelector('#df-4c655766-a369-4864-b18b-ca7c1bdf18ca');\n",
              "          const dataTable =\n",
              "            await google.colab.kernel.invokeFunction('convertToInteractive',\n",
              "                                                     [key], {});\n",
              "          if (!dataTable) return;\n",
              "\n",
              "          const docLinkHtml = 'Like what you see? Visit the ' +\n",
              "            '<a target=\"_blank\" href=https://colab.research.google.com/notebooks/data_table.ipynb>data table notebook</a>'\n",
              "            + ' to learn more about interactive tables.';\n",
              "          element.innerHTML = '';\n",
              "          dataTable['output_type'] = 'display_data';\n",
              "          await google.colab.output.renderOutput(dataTable, element);\n",
              "          const docLink = document.createElement('div');\n",
              "          docLink.innerHTML = docLinkHtml;\n",
              "          element.appendChild(docLink);\n",
              "        }\n",
              "      </script>\n",
              "    </div>\n",
              "  </div>\n",
              "  "
            ]
          },
          "metadata": {},
          "execution_count": 95
        }
      ]
    },
    {
      "cell_type": "code",
      "source": [
        "zoma[['Open','High','Low','Close','Adj Close']].plot(kind='box')\n",
        "plt.show()\n",
        "#Boxplot for detecting the outliers and as observed no outliers are present."
      ],
      "metadata": {
        "colab": {
          "base_uri": "https://localhost:8080/",
          "height": 265
        },
        "id": "ClcZDNgbbhgP",
        "outputId": "f95714cc-bc07-42dc-8c54-4380aacea22d"
      },
      "execution_count": 96,
      "outputs": [
        {
          "output_type": "display_data",
          "data": {
            "text/plain": [
              "<Figure size 432x288 with 1 Axes>"
            ],
            "image/png": "[encoded data removed]"
          },
          "metadata": {
            "needs_background": "light"
          }
        }
      ]
    },
    {
      "cell_type": "code",
      "source": [
        "zoma['Open'].plot(figsize=(16,6))\n",
        "#showing trend of opening stock of Zomato\n",
        "#Observed from past many months is decreasing."
      ],
      "metadata": {
        "colab": {
          "base_uri": "https://localhost:8080/",
          "height": 392
        },
        "id": "T3t8jop165FR",
        "outputId": "be21d81c-85a0-4092-b605-c64b243dc1a3"
      },
      "execution_count": 97,
      "outputs": [
        {
          "output_type": "execute_result",
          "data": {
            "text/plain": [
              "<matplotlib.axes._subplots.AxesSubplot at 0x7fba85542410>"
            ]
          },
          "metadata": {},
          "execution_count": 97
        },
        {
          "output_type": "display_data",
          "data": {
            "text/plain": [
              "<Figure size 1152x432 with 1 Axes>"
            ],
            "image/png": "[encoded data removed]"
          },
          "metadata": {
            "needs_background": "light"
          }
        }
      ]
    },
    {
      "cell_type": "code",
      "source": [
        "zoma['Adj Close'].plot(figsize=(16,6))\n",
        "#Trend of Closing Price\n",
        "#Closing Price is also decreasing"
      ],
      "metadata": {
        "colab": {
          "base_uri": "https://localhost:8080/",
          "height": 392
        },
        "id": "bEKhPZ0O4sOa",
        "outputId": "88cee6d7-b9da-49a0-eb2f-4d96875b3e19"
      },
      "execution_count": 98,
      "outputs": [
        {
          "output_type": "execute_result",
          "data": {
            "text/plain": [
              "<matplotlib.axes._subplots.AxesSubplot at 0x7fba854cead0>"
            ]
          },
          "metadata": {},
          "execution_count": 98
        },
        {
          "output_type": "display_data",
          "data": {
            "text/plain": [
              "<Figure size 1152x432 with 1 Axes>"
            ],
            "image/png": "[encoded data removed]"
          },
          "metadata": {
            "needs_background": "light"
          }
        }
      ]
    },
    {
      "cell_type": "code",
      "source": [
        "zoma['Open'].plot(figsize=(16,6))\n",
        "zoma.rolling(window=30).mean()['Close'].plot()\n",
        "plt.title(\"Opening Price of Zomato\")\n",
        "#uisng rolling functions we want to check the trend of opening price of Zomato and it is about to fit in trend."
      ],
      "metadata": {
        "colab": {
          "base_uri": "https://localhost:8080/",
          "height": 408
        },
        "id": "PTnXGdRk7CrK",
        "outputId": "f734bd15-b33e-49fe-8923-b9d870853360"
      },
      "execution_count": 99,
      "outputs": [
        {
          "output_type": "execute_result",
          "data": {
            "text/plain": [
              "Text(0.5, 1.0, 'Opening Price of Zomato')"
            ]
          },
          "metadata": {},
          "execution_count": 99
        },
        {
          "output_type": "display_data",
          "data": {
            "text/plain": [
              "<Figure size 1152x432 with 1 Axes>"
            ],
            "image/png": "[encoded data removed]"
          },
          "metadata": {
            "needs_background": "light"
          }
        }
      ]
    },
    {
      "cell_type": "code",
      "source": [
        "zoma['Close: 30 Day Mean']=zoma['Adj Close'].rolling(window=30).mean()\n",
        "zoma[['Adj Close','Close: 30 Day Mean']].plot(figsize=(16,6))\n",
        "plt.title(\"Closing Price\")\n",
        "#Same Comment of Adj Clsing price also as opening price"
      ],
      "metadata": {
        "colab": {
          "base_uri": "https://localhost:8080/",
          "height": 408
        },
        "id": "MyA1bMo07kxm",
        "outputId": "72320c56-48e1-4f18-daa9-fcb9c91fc217"
      },
      "execution_count": 100,
      "outputs": [
        {
          "output_type": "execute_result",
          "data": {
            "text/plain": [
              "Text(0.5, 1.0, 'Closing Price')"
            ]
          },
          "metadata": {},
          "execution_count": 100
        },
        {
          "output_type": "display_data",
          "data": {
            "text/plain": [
              "<Figure size 1152x432 with 1 Axes>"
            ],
            "image/png": "[encoded data removed]"
          },
          "metadata": {
            "needs_background": "light"
          }
        }
      ]
    },
    {
      "cell_type": "code",
      "source": [
        "zoma.index\n",
        "#Checking the index"
      ],
      "metadata": {
        "colab": {
          "base_uri": "https://localhost:8080/"
        },
        "id": "fkxX4IKN7ksk",
        "outputId": "4a1f4a5b-2cc8-422b-c7e9-8b2bf5169b7b"
      },
      "execution_count": 101,
      "outputs": [
        {
          "output_type": "execute_result",
          "data": {
            "text/plain": [
              "DatetimeIndex(['2021-07-30', '2021-08-02', '2021-08-03', '2021-08-04',\n",
              "               '2021-08-05', '2021-08-06', '2021-08-09', '2021-08-10',\n",
              "               '2021-08-11', '2021-08-12',\n",
              "               ...\n",
              "               '2022-07-18', '2022-07-19', '2022-07-20', '2022-07-21',\n",
              "               '2022-07-22', '2022-07-25', '2022-07-26', '2022-07-27',\n",
              "               '2022-07-28', '2022-07-29'],\n",
              "              dtype='datetime64[ns]', name='Date', length=250, freq=None)"
            ]
          },
          "metadata": {},
          "execution_count": 101
        }
      ]
    },
    {
      "cell_type": "code",
      "source": [
        "zoma=zoma[['Adj Close']]\n",
        "print(zoma.head())\n",
        "#For prediction we only needs Adj Closing value so we kept only this and drop rest all the columns"
      ],
      "metadata": {
        "colab": {
          "base_uri": "https://localhost:8080/"
        },
        "id": "cwdrutkZvEO_",
        "outputId": "70a622b9-9587-4d56-8492-517ee247f239"
      },
      "execution_count": 102,
      "outputs": [
        {
          "output_type": "stream",
          "name": "stdout",
          "text": [
            "             Adj Close\n",
            "Date                  \n",
            "2021-07-30  133.500000\n",
            "2021-08-02  139.699997\n",
            "2021-08-03  139.399994\n",
            "2021-08-04  138.399994\n",
            "2021-08-05  134.949997\n"
          ]
        }
      ]
    },
    {
      "cell_type": "code",
      "source": [
        "forecast_out=7\n",
        "zoma['Prediction']=zoma[['Adj Close']].shift(-forecast_out)\n",
        "print(zoma.tail())\n",
        "#As we want to predict the price for next 7 days.so i add a new coumn of forecast_out which contains value for how many day price we\n",
        "#want to predict.It is just 7 row down the current adj column.so i create a new column called Prediction and populate it with data from Adj. close \n",
        "#column but shifted 7rows up to get price for next 7 days and print last 5 rows."
      ],
      "metadata": {
        "colab": {
          "base_uri": "https://localhost:8080/"
        },
        "id": "Rnn3YJF-vzw0",
        "outputId": "2e1b75d5-e827-43b3-be5a-184f0e4b03d7"
      },
      "execution_count": 103,
      "outputs": [
        {
          "output_type": "stream",
          "name": "stdout",
          "text": [
            "            Adj Close  Prediction\n",
            "Date                             \n",
            "2022-07-25  47.599998         NaN\n",
            "2022-07-26  41.650002         NaN\n",
            "2022-07-27  43.950001         NaN\n",
            "2022-07-28  45.700001         NaN\n",
            "2022-07-29  46.799999         NaN\n"
          ]
        }
      ]
    },
    {
      "cell_type": "code",
      "source": [
        "X=np.array(zoma.drop(['Prediction'],axis=1))\n",
        "X=X[:-forecast_out]\n",
        "print(X)\n",
        "#It is independent dataset which is used to train a model and i convert it to numpy array after dropping prediction column,then store this\n",
        "#new data into X.Then i remove last 7 rows of data from X and store new data back to X."
      ],
      "metadata": {
        "colab": {
          "base_uri": "https://localhost:8080/"
        },
        "id": "8hWxKjHywtQt",
        "outputId": "c83e2ea1-4363-4c2f-86a8-2b6c6829082d"
      },
      "execution_count": 104,
      "outputs": [
        {
          "output_type": "stream",
          "name": "stdout",
          "text": [
            "[[133.5     ]\n",
            " [139.699997]\n",
            " [139.399994]\n",
            " [138.399994]\n",
            " [134.949997]\n",
            " [131.350006]\n",
            " [130.600006]\n",
            " [125.199997]\n",
            " [135.649994]\n",
            " [135.449997]\n",
            " [137.350006]\n",
            " [134.949997]\n",
            " [132.5     ]\n",
            " [134.949997]\n",
            " [139.300003]\n",
            " [127.25    ]\n",
            " [125.      ]\n",
            " [124.25    ]\n",
            " [125.849998]\n",
            " [124.699997]\n",
            " [133.550003]\n",
            " [134.550003]\n",
            " [132.600006]\n",
            " [137.600006]\n",
            " [149.75    ]\n",
            " [144.050003]\n",
            " [140.050003]\n",
            " [141.25    ]\n",
            " [141.600006]\n",
            " [143.149994]\n",
            " [144.100006]\n",
            " [142.649994]\n",
            " [142.050003]\n",
            " [137.899994]\n",
            " [134.300003]\n",
            " [133.449997]\n",
            " [132.100006]\n",
            " [137.300003]\n",
            " [136.649994]\n",
            " [143.699997]\n",
            " [139.      ]\n",
            " [138.5     ]\n",
            " [136.600006]\n",
            " [138.      ]\n",
            " [139.100006]\n",
            " [137.949997]\n",
            " [134.949997]\n",
            " [137.100006]\n",
            " [136.149994]\n",
            " [136.850006]\n",
            " [136.600006]\n",
            " [135.449997]\n",
            " [135.      ]\n",
            " [144.050003]\n",
            " [138.550003]\n",
            " [137.899994]\n",
            " [138.149994]\n",
            " [137.75    ]\n",
            " [132.699997]\n",
            " [135.449997]\n",
            " [134.800003]\n",
            " [135.600006]\n",
            " [131.550003]\n",
            " [132.649994]\n",
            " [132.449997]\n",
            " [128.350006]\n",
            " [131.350006]\n",
            " [131.149994]\n",
            " [137.649994]\n",
            " [136.050003]\n",
            " [140.899994]\n",
            " [153.      ]\n",
            " [160.300003]\n",
            " [157.600006]\n",
            " [156.550003]\n",
            " [154.699997]\n",
            " [149.75    ]\n",
            " [148.699997]\n",
            " [155.5     ]\n",
            " [159.75    ]\n",
            " [148.149994]\n",
            " [149.100006]\n",
            " [152.550003]\n",
            " [151.399994]\n",
            " [150.649994]\n",
            " [144.899994]\n",
            " [138.550003]\n",
            " [139.800003]\n",
            " [147.600006]\n",
            " [146.25    ]\n",
            " [140.550003]\n",
            " [142.649994]\n",
            " [140.649994]\n",
            " [140.600006]\n",
            " [138.399994]\n",
            " [135.350006]\n",
            " [126.550003]\n",
            " [131.600006]\n",
            " [138.649994]\n",
            " [133.      ]\n",
            " [131.449997]\n",
            " [132.75    ]\n",
            " [132.850006]\n",
            " [137.100006]\n",
            " [133.949997]\n",
            " [137.399994]\n",
            " [141.350006]\n",
            " [138.350006]\n",
            " [133.949997]\n",
            " [130.      ]\n",
            " [129.25    ]\n",
            " [130.199997]\n",
            " [131.300003]\n",
            " [132.25    ]\n",
            " [133.100006]\n",
            " [133.600006]\n",
            " [134.      ]\n",
            " [133.050003]\n",
            " [129.199997]\n",
            " [125.199997]\n",
            " [113.650002]\n",
            " [ 91.349998]\n",
            " [100.449997]\n",
            " [ 90.5     ]\n",
            " [ 89.550003]\n",
            " [ 90.400002]\n",
            " [ 94.550003]\n",
            " [ 98.900002]\n",
            " [ 97.099998]\n",
            " [ 94.199997]\n",
            " [ 93.550003]\n",
            " [ 93.550003]\n",
            " [ 94.199997]\n",
            " [ 94.449997]\n",
            " [ 88.699997]\n",
            " [ 82.449997]\n",
            " [ 82.699997]\n",
            " [ 84.949997]\n",
            " [ 89.150002]\n",
            " [ 85.900002]\n",
            " [ 81.550003]\n",
            " [ 79.699997]\n",
            " [ 84.150002]\n",
            " [ 78.5     ]\n",
            " [ 78.800003]\n",
            " [ 79.949997]\n",
            " [ 79.849998]\n",
            " [ 82.199997]\n",
            " [ 80.199997]\n",
            " [ 79.      ]\n",
            " [ 78.150002]\n",
            " [ 80.349998]\n",
            " [ 82.199997]\n",
            " [ 79.900002]\n",
            " [ 79.300003]\n",
            " [ 76.550003]\n",
            " [ 75.949997]\n",
            " [ 80.849998]\n",
            " [ 80.400002]\n",
            " [ 81.150002]\n",
            " [ 80.75    ]\n",
            " [ 80.349998]\n",
            " [ 80.599998]\n",
            " [ 79.650002]\n",
            " [ 78.199997]\n",
            " [ 85.050003]\n",
            " [ 82.300003]\n",
            " [ 84.300003]\n",
            " [ 86.25    ]\n",
            " [ 83.900002]\n",
            " [ 84.550003]\n",
            " [ 82.5     ]\n",
            " [ 83.400002]\n",
            " [ 84.449997]\n",
            " [ 81.5     ]\n",
            " [ 83.900002]\n",
            " [ 82.900002]\n",
            " [ 80.449997]\n",
            " [ 80.300003]\n",
            " [ 80.800003]\n",
            " [ 81.199997]\n",
            " [ 78.75    ]\n",
            " [ 79.599998]\n",
            " [ 75.849998]\n",
            " [ 73.849998]\n",
            " [ 71.75    ]\n",
            " [ 69.5     ]\n",
            " [ 64.449997]\n",
            " [ 61.150002]\n",
            " [ 60.5     ]\n",
            " [ 56.75    ]\n",
            " [ 52.450001]\n",
            " [ 54.200001]\n",
            " [ 51.950001]\n",
            " [ 56.849998]\n",
            " [ 56.400002]\n",
            " [ 56.150002]\n",
            " [ 58.75    ]\n",
            " [ 55.349998]\n",
            " [ 58.049999]\n",
            " [ 57.049999]\n",
            " [ 64.949997]\n",
            " [ 62.299999]\n",
            " [ 60.450001]\n",
            " [ 62.049999]\n",
            " [ 71.050003]\n",
            " [ 74.650002]\n",
            " [ 74.699997]\n",
            " [ 71.949997]\n",
            " [ 72.150002]\n",
            " [ 69.900002]\n",
            " [ 65.400002]\n",
            " [ 67.150002]\n",
            " [ 68.699997]\n",
            " [ 69.      ]\n",
            " [ 67.5     ]\n",
            " [ 70.      ]\n",
            " [ 70.199997]\n",
            " [ 67.199997]\n",
            " [ 67.050003]\n",
            " [ 65.      ]\n",
            " [ 66.050003]\n",
            " [ 67.599998]\n",
            " [ 69.550003]\n",
            " [ 70.5     ]\n",
            " [ 65.849998]\n",
            " [ 60.299999]\n",
            " [ 57.299999]\n",
            " [ 53.849998]\n",
            " [ 56.150002]\n",
            " [ 54.299999]\n",
            " [ 55.450001]\n",
            " [ 54.349998]\n",
            " [ 54.450001]\n",
            " [ 54.799999]\n",
            " [ 56.099998]\n",
            " [ 59.      ]\n",
            " [ 58.349998]\n",
            " [ 55.650002]\n",
            " [ 53.900002]\n",
            " [ 53.599998]\n",
            " [ 53.950001]\n",
            " [ 53.400002]]\n"
          ]
        }
      ]
    },
    {
      "cell_type": "code",
      "source": [
        "Y=np.array(zoma['Prediction'])\n",
        "Y=Y[:-forecast_out]\n",
        "print(Y)\n",
        "#It is dependent numpy arrray named Y,i.e., target one.it contains prediction column and removes last 7 rows of data from Y to make sure\n",
        "#there are no null value present."
      ],
      "metadata": {
        "colab": {
          "base_uri": "https://localhost:8080/"
        },
        "id": "Nu7XoQTgxA45",
        "outputId": "7a1f8f9a-131a-44dd-e05a-c06ec776a9e2"
      },
      "execution_count": 105,
      "outputs": [
        {
          "output_type": "stream",
          "name": "stdout",
          "text": [
            "[125.199997 135.649994 135.449997 137.350006 134.949997 132.5\n",
            " 134.949997 139.300003 127.25     125.       124.25     125.849998\n",
            " 124.699997 133.550003 134.550003 132.600006 137.600006 149.75\n",
            " 144.050003 140.050003 141.25     141.600006 143.149994 144.100006\n",
            " 142.649994 142.050003 137.899994 134.300003 133.449997 132.100006\n",
            " 137.300003 136.649994 143.699997 139.       138.5      136.600006\n",
            " 138.       139.100006 137.949997 134.949997 137.100006 136.149994\n",
            " 136.850006 136.600006 135.449997 135.       144.050003 138.550003\n",
            " 137.899994 138.149994 137.75     132.699997 135.449997 134.800003\n",
            " 135.600006 131.550003 132.649994 132.449997 128.350006 131.350006\n",
            " 131.149994 137.649994 136.050003 140.899994 153.       160.300003\n",
            " 157.600006 156.550003 154.699997 149.75     148.699997 155.5\n",
            " 159.75     148.149994 149.100006 152.550003 151.399994 150.649994\n",
            " 144.899994 138.550003 139.800003 147.600006 146.25     140.550003\n",
            " 142.649994 140.649994 140.600006 138.399994 135.350006 126.550003\n",
            " 131.600006 138.649994 133.       131.449997 132.75     132.850006\n",
            " 137.100006 133.949997 137.399994 141.350006 138.350006 133.949997\n",
            " 130.       129.25     130.199997 131.300003 132.25     133.100006\n",
            " 133.600006 134.       133.050003 129.199997 125.199997 113.650002\n",
            "  91.349998 100.449997  90.5       89.550003  90.400002  94.550003\n",
            "  98.900002  97.099998  94.199997  93.550003  93.550003  94.199997\n",
            "  94.449997  88.699997  82.449997  82.699997  84.949997  89.150002\n",
            "  85.900002  81.550003  79.699997  84.150002  78.5       78.800003\n",
            "  79.949997  79.849998  82.199997  80.199997  79.        78.150002\n",
            "  80.349998  82.199997  79.900002  79.300003  76.550003  75.949997\n",
            "  80.849998  80.400002  81.150002  80.75      80.349998  80.599998\n",
            "  79.650002  78.199997  85.050003  82.300003  84.300003  86.25\n",
            "  83.900002  84.550003  82.5       83.400002  84.449997  81.5\n",
            "  83.900002  82.900002  80.449997  80.300003  80.800003  81.199997\n",
            "  78.75      79.599998  75.849998  73.849998  71.75      69.5\n",
            "  64.449997  61.150002  60.5       56.75      52.450001  54.200001\n",
            "  51.950001  56.849998  56.400002  56.150002  58.75      55.349998\n",
            "  58.049999  57.049999  64.949997  62.299999  60.450001  62.049999\n",
            "  71.050003  74.650002  74.699997  71.949997  72.150002  69.900002\n",
            "  65.400002  67.150002  68.699997  69.        67.5       70.\n",
            "  70.199997  67.199997  67.050003  65.        66.050003  67.599998\n",
            "  69.550003  70.5       65.849998  60.299999  57.299999  53.849998\n",
            "  56.150002  54.299999  55.450001  54.349998  54.450001  54.799999\n",
            "  56.099998  59.        58.349998  55.650002  53.900002  53.599998\n",
            "  53.950001  53.400002  53.5       53.650002  47.599998  41.650002\n",
            "  43.950001  45.700001  46.799999]\n"
          ]
        }
      ]
    },
    {
      "cell_type": "code",
      "source": [
        "from sklearn.model_selection import train_test_split\n",
        "X_train,X_test,Y_train,Y_test=train_test_split(X,Y,train_size=0.7,test_size=0.3,random_state=101)\n",
        "#Splitting the dataset into training and testing part."
      ],
      "metadata": {
        "id": "xn7X0GkqxPgR"
      },
      "execution_count": 106,
      "outputs": []
    },
    {
      "cell_type": "code",
      "source": [
        "from sklearn.svm import SVR\n",
        "svc=SVR(kernel='rbf',C=100,gamma=0.1)\n",
        "svc.fit(X_train,Y_train)\n",
        "print(\"SVM Confidence: \",svc.score(X_test,Y_test))\n",
        "#Using Support vector machine model and calculated its accuracy as 88%."
      ],
      "metadata": {
        "colab": {
          "base_uri": "https://localhost:8080/"
        },
        "id": "LaHP3P0Fxo-3",
        "outputId": "d282c8c7-575f-4fa7-8321-8b81dac4e4c1"
      },
      "execution_count": 107,
      "outputs": [
        {
          "output_type": "stream",
          "name": "stdout",
          "text": [
            "SVM Confidence:  0.883191997909545\n"
          ]
        }
      ]
    },
    {
      "cell_type": "code",
      "source": [
        "from sklearn.linear_model import LinearRegression\n",
        "lr=LinearRegression()\n",
        "lr.fit(X_train,Y_train)\n",
        "print(\"Linear Regression Confidence: \",lr.score(X_test,Y_test))\n",
        "#Using Linear Regression model and found the accuracy as 90%."
      ],
      "metadata": {
        "colab": {
          "base_uri": "https://localhost:8080/"
        },
        "id": "4LeQxfGhyW5C",
        "outputId": "a5e7a736-71ba-4264-b184-68108a1ae62f"
      },
      "execution_count": 108,
      "outputs": [
        {
          "output_type": "stream",
          "name": "stdout",
          "text": [
            "Linear Regression Confidence:  0.8960371486983083\n"
          ]
        }
      ]
    },
    {
      "cell_type": "code",
      "source": [
        "x_forecast=np.array(zoma.drop(['Prediction'],axis=1))[-forecast_out:]\n",
        "print(x_forecast)\n",
        "x_forecast.shape\n",
        "#now for forecasting i will take last 7 rows of data of adj close and store it to x_forecast variable."
      ],
      "metadata": {
        "colab": {
          "base_uri": "https://localhost:8080/"
        },
        "id": "x0DEeGslyuqN",
        "outputId": "67afc518-949c-4897-c7a4-1105dcc2ee65"
      },
      "execution_count": 110,
      "outputs": [
        {
          "output_type": "stream",
          "name": "stdout",
          "text": [
            "[[53.5     ]\n",
            " [53.650002]\n",
            " [47.599998]\n",
            " [41.650002]\n",
            " [43.950001]\n",
            " [45.700001]\n",
            " [46.799999]]\n"
          ]
        },
        {
          "output_type": "execute_result",
          "data": {
            "text/plain": [
              "(7, 1)"
            ]
          },
          "metadata": {},
          "execution_count": 110
        }
      ]
    },
    {
      "cell_type": "code",
      "source": [
        "lr_prediction=lr.predict(x_forecast)\n",
        "print(lr_prediction)\n",
        "#Predicted Price by Linear Regression model as its accuracy is more for stock price of zomato for next 7  days."
      ],
      "metadata": {
        "colab": {
          "base_uri": "https://localhost:8080/"
        },
        "id": "0x22XG1FzF5y",
        "outputId": "7802aa0d-5da8-444b-9c26-d525abf88164"
      },
      "execution_count": 112,
      "outputs": [
        {
          "output_type": "stream",
          "name": "stdout",
          "text": [
            "[51.55008727 51.69839498 45.71672653 39.83393649 42.10795671 43.83819024\n",
            " 44.92576362]\n"
          ]
        }
      ]
    }
  ]
}